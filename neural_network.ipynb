{
 "cells": [
  {
   "cell_type": "markdown",
   "metadata": {},
   "source": [
    "# Building A Neural Network with Numpy\n",
    "\n",
    "This neural network(NN) is used to recognize hand-writting digits from dataset *MINST*. It has 2 layers, l0 and l1. \n",
    "\n",
    "For each layer, it can be written as **l0 = A(data + b0)**, **l1 = A1(l0 * w + b1)**.In which, A is activation funciont, data is matrix(28\\*28) and w is a matrix with size of . Activation funciotn of A is tanh, A1 is soft_max function."
   ]
  },
  {
   "cell_type": "code",
   "execution_count": 28,
   "metadata": {},
   "outputs": [],
   "source": [
    "import numpy as np\n",
    "import math"
   ]
  },
  {
   "cell_type": "code",
   "execution_count": 16,
   "metadata": {},
   "outputs": [],
   "source": [
    "# build active function using numpy\n",
    "\n",
    "def tanh(x):\n",
    "    return np.tanh(x)\n",
    "\n",
    "def soft_max(x):\n",
    "    exp = np.exp(x - x.max())\n",
    "    return exp/exp.sum()"
   ]
  },
  {
   "cell_type": "markdown",
   "metadata": {},
   "source": [
    "## Parameter setting"
   ]
  },
  {
   "cell_type": "markdown",
   "metadata": {},
   "source": [
    "How to setup intial parameter raised a lot of discussion. This notes won't talk a lot about this.\n",
    "\n",
    "In this notebook, the parameter has been setted as:\n",
    "\n",
    "b = [0,0]\n"
   ]
  },
  {
   "cell_type": "code",
   "execution_count": 71,
   "metadata": {},
   "outputs": [],
   "source": [
    "# define dimentions of data\n",
    "\n",
    "dimentions = [28 * 28, 10]\n",
    "\n",
    "# define active function\n",
    "\n",
    "active_function = [tanh, soft_max]\n",
    "\n",
    "# define parameter distribution for each layer\n",
    "distribution = [\n",
    "    {'b' : [0, 0]}, # Parameter for layer_0\n",
    "    {'b' : [0, 0], 'w' : [-math.sqrt(6/(dimentions[0] + dimentions[1])), math.sqrt(6/(dimentions[0] + dimentions[1]))]} # Parameter for layer_1  \n",
    "]"
   ]
  },
  {
   "cell_type": "markdown",
   "metadata": {},
   "source": [
    "Verify the coding correctness of active function."
   ]
  },
  {
   "cell_type": "code",
   "execution_count": 11,
   "metadata": {},
   "outputs": [
    {
     "data": {
      "text/plain": [
       "0.42189900525000795"
      ]
     },
     "execution_count": 11,
     "metadata": {},
     "output_type": "execute_result"
    }
   ],
   "source": [
    "tanh(0.45)"
   ]
  },
  {
   "cell_type": "code",
   "execution_count": 19,
   "metadata": {},
   "outputs": [
    {
     "data": {
      "text/plain": [
       "array([0.0320586 , 0.08714432, 0.23688282, 0.64391426])"
      ]
     },
     "execution_count": 19,
     "metadata": {},
     "output_type": "execute_result"
    }
   ],
   "source": [
    "soft_max(np.array([1,2,3,4]))"
   ]
  },
  {
   "cell_type": "markdown",
   "metadata": {},
   "source": [
    "## Parameter initializing"
   ]
  },
  {
   "cell_type": "markdown",
   "metadata": {},
   "source": [
    "Note:\n",
    "\n",
    "*np.random.rand()* generates the random number between 0 ~ 1. \n",
    "\n",
    "There for, **rand_num * (max(range) - max(range)) + min(range)** can convert the random number into the target interval. "
   ]
  },
  {
   "cell_type": "code",
   "execution_count": 55,
   "metadata": {},
   "outputs": [],
   "source": [
    "def init_parm_b(layer):\n",
    "    '''\n",
    "    Initialize the parameter b.\n",
    "    Input:\n",
    "        Layer number.\n",
    "    \n",
    "    Output:\n",
    "        Initialized parameter in range of b. Size: 10 * 1\n",
    "    '''\n",
    "    \n",
    "    dist = distribution[layer]['b'] # distribution range for layer_0\n",
    "    return np.random.rand(dimentions[layer]) * (dist[1] - dist[0]) + dist[0]"
   ]
  },
  {
   "cell_type": "code",
   "execution_count": 60,
   "metadata": {},
   "outputs": [],
   "source": [
    "def init_parm_w(layer):\n",
    "    '''\n",
    "    Initialize the parameter w.\n",
    "    Input:\n",
    "        Layer number.\n",
    "    \n",
    "    Output:\n",
    "        Initialized parameter in range of w. Size: 784 * 10\n",
    "    '''\n",
    "    dist = distribution[layer]['w']\n",
    "    return np.random.rand(dimentions[layer-1], dimentions[layer]) * (dist[1] - dist[0]) + dist[0]"
   ]
  },
  {
   "cell_type": "code",
   "execution_count": 62,
   "metadata": {},
   "outputs": [
    {
     "data": {
      "text/plain": [
       "(784, 10)"
      ]
     },
     "execution_count": 62,
     "metadata": {},
     "output_type": "execute_result"
    }
   ],
   "source": [
    "init_parm_w(1)"
   ]
  },
  {
   "cell_type": "code",
   "execution_count": 72,
   "metadata": {},
   "outputs": [],
   "source": [
    "def init_parm():\n",
    "    '''\n",
    "    Initialize parameters of each layer.\n",
    "    \n",
    "    Input:\n",
    "        None.\n",
    "        \n",
    "    Output:\n",
    "        List with dictionary of parameters of each layer.\n",
    "    '''\n",
    "    parameter = []\n",
    "    for i in range(len(distribution)):\n",
    "        layer_parameter = {}\n",
    "        for j in distribution[i].keys():\n",
    "            if j == 'b':\n",
    "                layer_parameter['b'] = init_parm_b(i)\n",
    "                continue\n",
    "            elif j == 'w':\n",
    "                layer_parameter['w'] = init_parm_w(i)\n",
    "                continue\n",
    "        parameter.append(layer_parameter)\n",
    "    return parameter"
   ]
  },
  {
   "cell_type": "code",
   "execution_count": 79,
   "metadata": {},
   "outputs": [],
   "source": [
    "init_parameters = init_parm()"
   ]
  },
  {
   "cell_type": "code",
   "execution_count": 77,
   "metadata": {},
   "outputs": [],
   "source": [
    "def prdict(img, parameters):\n",
    "    '''\n",
    "    Progress of NN.\n",
    "    \n",
    "    Input:\n",
    "        (Image matrix, initialized parameters)\n",
    "    \n",
    "    Output:\n",
    "        Target vector.\n",
    "    \n",
    "    '''\n",
    "    \n",
    "    l0_in = img + parameters[0]['b']\n",
    "    l0_out = active_function[0](l0_in)\n",
    "    \n",
    "    l1_in = np.dot(l0_out, parameters[1]['w']) + parameters[1]['b']\n",
    "    l1_out = active_function[1](l1_in)\n",
    "    \n",
    "    return l1_out"
   ]
  },
  {
   "cell_type": "code",
   "execution_count": 80,
   "metadata": {},
   "outputs": [
    {
     "data": {
      "text/plain": [
       "array([0.15422204, 0.05257614, 0.04406835, 0.23065611, 0.06015764,\n",
       "       0.22477842, 0.0120479 , 0.04646147, 0.14680333, 0.0282286 ])"
      ]
     },
     "execution_count": 80,
     "metadata": {},
     "output_type": "execute_result"
    }
   ],
   "source": [
    "prdict(np.random.rand(784), init_parameters)"
   ]
  },
  {
   "cell_type": "code",
   "execution_count": null,
   "metadata": {},
   "outputs": [],
   "source": []
  }
 ],
 "metadata": {
  "kernelspec": {
   "display_name": "Python 3",
   "language": "python",
   "name": "python3"
  },
  "language_info": {
   "codemirror_mode": {
    "name": "ipython",
    "version": 3
   },
   "file_extension": ".py",
   "mimetype": "text/x-python",
   "name": "python",
   "nbconvert_exporter": "python",
   "pygments_lexer": "ipython3",
   "version": "3.7.2"
  }
 },
 "nbformat": 4,
 "nbformat_minor": 4
}
